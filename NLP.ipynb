{
  "nbformat": 4,
  "nbformat_minor": 0,
  "metadata": {
    "colab": {
      "name": "NLP",
      "provenance": [],
      "toc_visible": true,
      "authorship_tag": "ABX9TyMRAHfwDZwofVuun65VNx4G",
      "include_colab_link": true
    },
    "kernelspec": {
      "name": "python3",
      "display_name": "Python 3"
    }
  },
  "cells": [
    {
      "cell_type": "markdown",
      "metadata": {
        "id": "view-in-github",
        "colab_type": "text"
      },
      "source": [
        "<a href=\"https://colab.research.google.com/github/Finyasy/NLP/blob/main/NLP.ipynb\" target=\"_parent\"><img src=\"https://colab.research.google.com/assets/colab-badge.svg\" alt=\"Open In Colab\"/></a>"
      ]
    },
    {
      "cell_type": "code",
      "metadata": {
        "id": "IYZlFvQLX2z7"
      },
      "source": [
        "import tensorflow as tf\n",
        "import tensorflow as keras\n",
        "from tensorflow.keras.preprocessing.text import Tokenizer\n",
        "from tensorflow.keras.preprocessing.sequence import pad_sequences"
      ],
      "execution_count": null,
      "outputs": []
    },
    {
      "cell_type": "code",
      "metadata": {
        "colab": {
          "base_uri": "https://localhost:8080/"
        },
        "id": "KCuTLdO7X3oc",
        "outputId": "646f81cf-6de5-4b0b-d212-cba179022c5a"
      },
      "source": [
        "sentences = [\n",
        "    'i love my dog',\n",
        "    'I, love my cat',\n",
        "    'You love my dog!',\n",
        "    'Do you think my dog is amazing?'\n",
        "]\n",
        "tokenizer=Tokenizer(num_words=100,oov_token=\"<OOV>\")\n",
        "tokenizer.fit_on_texts(sentences)\n",
        "word_index=tokenizer.word_index\n",
        "print(word_index)"
      ],
      "execution_count": null,
      "outputs": [
        {
          "output_type": "stream",
          "text": [
            "{'<OOV>': 1, 'my': 2, 'love': 3, 'dog': 4, 'i': 5, 'you': 6, 'cat': 7, 'do': 8, 'think': 9, 'is': 10, 'amazing': 11}\n"
          ],
          "name": "stdout"
        }
      ]
    },
    {
      "cell_type": "code",
      "metadata": {
        "colab": {
          "base_uri": "https://localhost:8080/"
        },
        "id": "moLsMwHJZANd",
        "outputId": "c8dc545e-44a7-404e-9ff7-3f60157d62bb"
      },
      "source": [
        "sequences=tokenizer.texts_to_sequences(sentences)\n",
        "\n",
        "print(word_index)\n",
        "print(sequences)"
      ],
      "execution_count": null,
      "outputs": [
        {
          "output_type": "stream",
          "text": [
            "{'<OOV>': 1, 'my': 2, 'love': 3, 'dog': 4, 'i': 5, 'you': 6, 'cat': 7, 'do': 8, 'think': 9, 'is': 10, 'amazing': 11}\n",
            "[[5, 3, 2, 4], [5, 3, 2, 7], [6, 3, 2, 4], [8, 6, 9, 2, 4, 10, 11]]\n"
          ],
          "name": "stdout"
        }
      ]
    },
    {
      "cell_type": "code",
      "metadata": {
        "colab": {
          "base_uri": "https://localhost:8080/"
        },
        "id": "C5t1B1KXn2JU",
        "outputId": "ea6aa4b4-d8fc-4bed-e027-6ec984b84ce2"
      },
      "source": [
        "padded=pad_sequences(sequences,maxlen=7)\n",
        "print(\"\\nWord Index=\",word_index)\n",
        "print(\"\\nSequences=\",sequences)\n",
        "print(\"\\nPadded Sequences:\")\n",
        "print(padded)"
      ],
      "execution_count": null,
      "outputs": [
        {
          "output_type": "stream",
          "text": [
            "\n",
            "Word Index= {'<OOV>': 1, 'my': 2, 'love': 3, 'dog': 4, 'i': 5, 'you': 6, 'cat': 7, 'do': 8, 'think': 9, 'is': 10, 'amazing': 11}\n",
            "\n",
            "Sequences= [[5, 3, 2, 4], [5, 3, 2, 7], [6, 3, 2, 4], [8, 6, 9, 2, 4, 10, 11]]\n",
            "\n",
            "Padded Sequences:\n",
            "[[ 0  0  0  5  3  2  4]\n",
            " [ 0  0  0  5  3  2  7]\n",
            " [ 0  0  0  6  3  2  4]\n",
            " [ 8  6  9  2  4 10 11]]\n"
          ],
          "name": "stdout"
        }
      ]
    },
    {
      "cell_type": "code",
      "metadata": {
        "colab": {
          "base_uri": "https://localhost:8080/"
        },
        "id": "V7yEf6YEgUR0",
        "outputId": "b242492f-dece-43d3-f736-58183abf8593"
      },
      "source": [
        "test_data=[\n",
        "           'i really love my dog',\n",
        "           'My dog love meat'\n",
        "]\n",
        "test_seq=tokenizer.texts_to_sequences(test_data)\n",
        "print(\"\\nTest Sequence:\",test_seq)"
      ],
      "execution_count": null,
      "outputs": [
        {
          "output_type": "stream",
          "text": [
            "\n",
            "Test Sequence: [[5, 1, 3, 2, 4], [2, 4, 3, 1]]\n"
          ],
          "name": "stdout"
        }
      ]
    },
    {
      "cell_type": "code",
      "metadata": {
        "colab": {
          "base_uri": "https://localhost:8080/"
        },
        "id": "XzNc2SG_jDAc",
        "outputId": "67c1d82d-2d99-49fb-ea46-59cb0eadda50"
      },
      "source": [
        "padded=pad_sequences(test_seq,maxlen=10)\n",
        "print(\"\\nPadded Sequence:\",padded)"
      ],
      "execution_count": null,
      "outputs": [
        {
          "output_type": "stream",
          "text": [
            "\n",
            "Padded Sequence: [[0 0 0 0 0 5 1 3 2 4]\n",
            " [0 0 0 0 0 0 2 4 3 1]]\n"
          ],
          "name": "stdout"
        }
      ]
    },
    {
      "cell_type": "code",
      "metadata": {
        "id": "Qzjvyu0hqTJW"
      },
      "source": [
        ""
      ],
      "execution_count": null,
      "outputs": []
    },
    {
      "cell_type": "code",
      "metadata": {
        "colab": {
          "base_uri": "https://localhost:8080/"
        },
        "id": "exQm46C_qiS8",
        "outputId": "59039e45-87e3-492e-e6a7-7e11884d3aa0"
      },
      "source": [
        "padded=pad_sequences(test_seq,padding='post',maxlen=10)\n",
        "print(\"\\nPadded Sequence:\",padded)"
      ],
      "execution_count": null,
      "outputs": [
        {
          "output_type": "stream",
          "text": [
            "\n",
            "Padded Sequence: [[5 1 3 2 4 0 0 0 0 0]\n",
            " [2 4 3 1 0 0 0 0 0 0]]\n"
          ],
          "name": "stdout"
        }
      ]
    },
    {
      "cell_type": "code",
      "metadata": {
        "colab": {
          "base_uri": "https://localhost:8080/"
        },
        "id": "WmpY2xQrqtnm",
        "outputId": "4bb86735-280a-4ba1-d0f0-2c964e7bc7e1"
      },
      "source": [
        "padded=pad_sequences(test_seq,padding='pre',truncating='post',maxlen=10)\n",
        "print(\"\\nPadded Sequence:\",padded)"
      ],
      "execution_count": null,
      "outputs": [
        {
          "output_type": "stream",
          "text": [
            "\n",
            "Padded Sequence: [[0 0 0 0 0 5 1 3 2 4]\n",
            " [0 0 0 0 0 0 2 4 3 1]]\n"
          ],
          "name": "stdout"
        }
      ]
    },
    {
      "cell_type": "code",
      "metadata": {
        "id": "tqYGGTaOq4xN"
      },
      "source": [
        "# Run this to ensure TensorFlow 2.x is used\n",
        "try:\n",
        "  # %tensorflow_version only exists in Colab.\n",
        "  %tensorflow_version 2.x\n",
        "except Exception:\n",
        "  pass"
      ],
      "execution_count": null,
      "outputs": []
    },
    {
      "cell_type": "code",
      "metadata": {
        "id": "bQ_jmf2gXNku"
      },
      "source": [
        "import json\n",
        "import tensorflow as tf\n",
        "from tensorflow.keras.preprocessing.text import  Tokenizer\n",
        "from tensorflow.keras.preprocessing.sequence import pad_sequences"
      ],
      "execution_count": null,
      "outputs": []
    },
    {
      "cell_type": "code",
      "metadata": {
        "id": "eIfyWakjYPTc"
      },
      "source": [
        "vocab_size=1000\n",
        "embedding_dim=16\n",
        "max_length=100\n",
        "trunc_type='post'\n",
        "padding_type='post'\n",
        "oov_tok=\"<OOV>\"\n",
        "training_size=2000"
      ],
      "execution_count": null,
      "outputs": []
    },
    {
      "cell_type": "code",
      "metadata": {
        "colab": {
          "base_uri": "https://localhost:8080/"
        },
        "id": "hLrTyff3Y_7N",
        "outputId": "ff785ffd-3a0e-453a-e2aa-726d92e114fc"
      },
      "source": [
        "!wget --no-check-certificate \\\n",
        "    https://storage.googleapis.com/laurencemoroney-blog.appspot.com/sarcasm.json \\\n",
        "    -O /tmp/sarcasm.json"
      ],
      "execution_count": null,
      "outputs": [
        {
          "output_type": "stream",
          "text": [
            "--2020-12-26 14:51:52--  https://storage.googleapis.com/laurencemoroney-blog.appspot.com/sarcasm.json\n",
            "Resolving storage.googleapis.com (storage.googleapis.com)... 173.194.214.128, 173.194.215.128, 173.194.216.128, ...\n",
            "Connecting to storage.googleapis.com (storage.googleapis.com)|173.194.214.128|:443... connected.\n",
            "HTTP request sent, awaiting response... 200 OK\n",
            "Length: 5643545 (5.4M) [application/json]\n",
            "Saving to: ‘/tmp/sarcasm.json’\n",
            "\n",
            "/tmp/sarcasm.json   100%[===================>]   5.38M  --.-KB/s    in 0.05s   \n",
            "\n",
            "2020-12-26 14:51:52 (105 MB/s) - ‘/tmp/sarcasm.json’ saved [5643545/5643545]\n",
            "\n"
          ],
          "name": "stdout"
        }
      ]
    },
    {
      "cell_type": "code",
      "metadata": {
        "id": "heZKJjxuZGH1"
      },
      "source": [
        "with open(\"/tmp/sarcasm.json\",mode='r') as f:\n",
        "  datastore=json.load(f)\n",
        "\n",
        "sentences=[]\n",
        "labels=[]\n",
        "\n",
        "for item in datastore:\n",
        "  sentences.append(item['headline'])\n",
        "  labels.append(item['is_sarcastic'])\n"
      ],
      "execution_count": null,
      "outputs": []
    },
    {
      "cell_type": "code",
      "metadata": {
        "id": "-I1m4W6Qahsk"
      },
      "source": [
        "training_sentences=sentences[0:training_size]\n",
        "testing_sentences=sentences[training_size:]\n",
        "training_labels=labels[0:training_size]\n",
        "testing_labels=labels[training_size:]"
      ],
      "execution_count": null,
      "outputs": []
    },
    {
      "cell_type": "code",
      "metadata": {
        "id": "Znk-4qWqbk-E"
      },
      "source": [
        "tokenizer=Tokenizer(num_words=vocab_size,oov_token=oov_tok)\n",
        "tokenizer.fit_on_texts(training_sentences)\n",
        "\n",
        "word_index=tokenizer.word_index\n",
        "\n",
        "training_sequences=tokenizer.texts_to_sequences(training_sentences)\n",
        "training_padded=pad_sequences(training_sequences,maxlen=max_length,padding=padding_type,truncating=trunc_type)\n",
        "\n",
        "testing_sequences=tokenizer.texts_to_sequences(testing_sentences)\n",
        "testing_padded=pad_sequences(testing_sequences,maxlen=max_length,padding=padding_type,truncating=trunc_type)"
      ],
      "execution_count": null,
      "outputs": []
    },
    {
      "cell_type": "code",
      "metadata": {
        "id": "-iAVsNXwcJIe"
      },
      "source": [
        "import numpy as np\n",
        "training_padded=np.array(training_padded)\n",
        "training_labels=np.array(training_labels)\n",
        "testing_padded=np.array(testing_padded)\n",
        "testing_labels=np.array(testing_labels)"
      ],
      "execution_count": null,
      "outputs": []
    },
    {
      "cell_type": "code",
      "metadata": {
        "id": "P5EpK_pLenog"
      },
      "source": [
        "model=tf.keras.Sequential([\n",
        "                           tf.keras.layers.Embedding(vocab_size,embedding_dim,input_length=max_length),\n",
        "                           tf.keras.layers.GlobalAveragePooling1D(),\n",
        "                           tf.keras.layers.Dense(24,activation='relu'),\n",
        "                           tf.keras.layers.Dense(1,activation='sigmoid')\n",
        "\n",
        "])\n",
        "model.compile(loss='binary_crossentropy',optimizer='adam',metrics=['accuracy'])"
      ],
      "execution_count": null,
      "outputs": []
    },
    {
      "cell_type": "code",
      "metadata": {
        "colab": {
          "base_uri": "https://localhost:8080/"
        },
        "id": "xAlR8Y55gBv_",
        "outputId": "5947beaa-59a7-45a5-a32f-73c09399369e"
      },
      "source": [
        "model.summary()"
      ],
      "execution_count": null,
      "outputs": [
        {
          "output_type": "stream",
          "text": [
            "Model: \"sequential\"\n",
            "_________________________________________________________________\n",
            "Layer (type)                 Output Shape              Param #   \n",
            "=================================================================\n",
            "embedding (Embedding)        (None, 100, 16)           16000     \n",
            "_________________________________________________________________\n",
            "global_average_pooling1d (Gl (None, 16)                0         \n",
            "_________________________________________________________________\n",
            "dense (Dense)                (None, 24)                408       \n",
            "_________________________________________________________________\n",
            "dense_1 (Dense)              (None, 1)                 25        \n",
            "=================================================================\n",
            "Total params: 16,433\n",
            "Trainable params: 16,433\n",
            "Non-trainable params: 0\n",
            "_________________________________________________________________\n"
          ],
          "name": "stdout"
        }
      ]
    },
    {
      "cell_type": "code",
      "metadata": {
        "colab": {
          "base_uri": "https://localhost:8080/"
        },
        "id": "nsMWqS2lgMkA",
        "outputId": "92b1da81-98f1-426f-ebce-936b45439b2d"
      },
      "source": [
        "num_epochs=30\n",
        "history=model.fit(training_padded,training_labels,epochs=num_epochs,validation_data=(testing_padded,testing_labels),verbose=2)"
      ],
      "execution_count": null,
      "outputs": [
        {
          "output_type": "stream",
          "text": [
            "Epoch 1/30\n",
            "63/63 - 2s - loss: 0.6876 - accuracy: 0.5580 - val_loss: 0.6852 - val_accuracy: 0.5613\n",
            "Epoch 2/30\n",
            "63/63 - 1s - loss: 0.6857 - accuracy: 0.5580 - val_loss: 0.6842 - val_accuracy: 0.5613\n",
            "Epoch 3/30\n",
            "63/63 - 1s - loss: 0.6843 - accuracy: 0.5580 - val_loss: 0.6831 - val_accuracy: 0.5613\n",
            "Epoch 4/30\n",
            "63/63 - 1s - loss: 0.6828 - accuracy: 0.5580 - val_loss: 0.6815 - val_accuracy: 0.5613\n",
            "Epoch 5/30\n",
            "63/63 - 1s - loss: 0.6807 - accuracy: 0.5580 - val_loss: 0.6792 - val_accuracy: 0.5613\n",
            "Epoch 6/30\n",
            "63/63 - 1s - loss: 0.6768 - accuracy: 0.5580 - val_loss: 0.6751 - val_accuracy: 0.5613\n",
            "Epoch 7/30\n",
            "63/63 - 1s - loss: 0.6702 - accuracy: 0.5580 - val_loss: 0.6676 - val_accuracy: 0.5613\n",
            "Epoch 8/30\n",
            "63/63 - 1s - loss: 0.6578 - accuracy: 0.5635 - val_loss: 0.6528 - val_accuracy: 0.5934\n",
            "Epoch 9/30\n",
            "63/63 - 1s - loss: 0.6340 - accuracy: 0.6255 - val_loss: 0.6281 - val_accuracy: 0.6794\n",
            "Epoch 10/30\n",
            "63/63 - 1s - loss: 0.5985 - accuracy: 0.7105 - val_loss: 0.5947 - val_accuracy: 0.7298\n",
            "Epoch 11/30\n",
            "63/63 - 1s - loss: 0.5537 - accuracy: 0.7705 - val_loss: 0.5602 - val_accuracy: 0.7554\n",
            "Epoch 12/30\n",
            "63/63 - 1s - loss: 0.5065 - accuracy: 0.8050 - val_loss: 0.5278 - val_accuracy: 0.7611\n",
            "Epoch 13/30\n",
            "63/63 - 1s - loss: 0.4676 - accuracy: 0.8270 - val_loss: 0.5099 - val_accuracy: 0.7710\n",
            "Epoch 14/30\n",
            "63/63 - 1s - loss: 0.4313 - accuracy: 0.8445 - val_loss: 0.4841 - val_accuracy: 0.7732\n",
            "Epoch 15/30\n",
            "63/63 - 1s - loss: 0.4020 - accuracy: 0.8540 - val_loss: 0.4716 - val_accuracy: 0.7796\n",
            "Epoch 16/30\n",
            "63/63 - 1s - loss: 0.3778 - accuracy: 0.8595 - val_loss: 0.4613 - val_accuracy: 0.7825\n",
            "Epoch 17/30\n",
            "63/63 - 1s - loss: 0.3565 - accuracy: 0.8685 - val_loss: 0.4595 - val_accuracy: 0.7828\n",
            "Epoch 18/30\n",
            "63/63 - 1s - loss: 0.3399 - accuracy: 0.8765 - val_loss: 0.4596 - val_accuracy: 0.7750\n",
            "Epoch 19/30\n",
            "63/63 - 1s - loss: 0.3285 - accuracy: 0.8765 - val_loss: 0.4505 - val_accuracy: 0.7860\n",
            "Epoch 20/30\n",
            "63/63 - 1s - loss: 0.3111 - accuracy: 0.8855 - val_loss: 0.4784 - val_accuracy: 0.7686\n",
            "Epoch 21/30\n",
            "63/63 - 1s - loss: 0.3011 - accuracy: 0.8885 - val_loss: 0.4507 - val_accuracy: 0.7874\n",
            "Epoch 22/30\n",
            "63/63 - 1s - loss: 0.2901 - accuracy: 0.8900 - val_loss: 0.4670 - val_accuracy: 0.7772\n",
            "Epoch 23/30\n",
            "63/63 - 1s - loss: 0.2807 - accuracy: 0.8970 - val_loss: 0.4558 - val_accuracy: 0.7860\n",
            "Epoch 24/30\n",
            "63/63 - 1s - loss: 0.2770 - accuracy: 0.8980 - val_loss: 0.4569 - val_accuracy: 0.7855\n",
            "Epoch 25/30\n",
            "63/63 - 1s - loss: 0.2626 - accuracy: 0.9060 - val_loss: 0.4822 - val_accuracy: 0.7744\n",
            "Epoch 26/30\n",
            "63/63 - 1s - loss: 0.2584 - accuracy: 0.9045 - val_loss: 0.4638 - val_accuracy: 0.7853\n",
            "Epoch 27/30\n",
            "63/63 - 1s - loss: 0.2516 - accuracy: 0.9070 - val_loss: 0.4689 - val_accuracy: 0.7839\n",
            "Epoch 28/30\n",
            "63/63 - 1s - loss: 0.2437 - accuracy: 0.9065 - val_loss: 0.4867 - val_accuracy: 0.7770\n",
            "Epoch 29/30\n",
            "63/63 - 1s - loss: 0.2350 - accuracy: 0.9115 - val_loss: 0.4752 - val_accuracy: 0.7830\n",
            "Epoch 30/30\n",
            "63/63 - 1s - loss: 0.2298 - accuracy: 0.9130 - val_loss: 0.4815 - val_accuracy: 0.7823\n"
          ],
          "name": "stdout"
        }
      ]
    },
    {
      "cell_type": "code",
      "metadata": {
        "colab": {
          "base_uri": "https://localhost:8080/",
          "height": 541
        },
        "id": "htCf6rfag2Un",
        "outputId": "e2045a52-c635-4984-df16-1f3ec964c9c7"
      },
      "source": [
        "import matplotlib.pyplot as plt\n",
        "\n",
        "def plot_graphs(history,string):\n",
        "  plt.plot(history.history[string])\n",
        "  plt.plot(history.history['val_'+string])\n",
        "  plt.xlabel(\"Epochs\")\n",
        "  plt.ylabel(string)\n",
        "  plt.legend([string,'val_'+string])\n",
        "  plt.show()\n",
        "\n",
        "plot_graphs(history,\"accuracy\")\n",
        "plot_graphs(history,\"loss\")"
      ],
      "execution_count": null,
      "outputs": [
        {
          "output_type": "display_data",
          "data": {
            "image/png": "[encoded data removed]",
            "text/plain": [
              "<Figure size 432x288 with 1 Axes>"
            ]
          },
          "metadata": {
            "tags": [],
            "needs_background": "light"
          }
        },
        {
          "output_type": "display_data",
          "data": {
            "image/png": "[encoded data removed]",
            "text/plain": [
              "<Figure size 432x288 with 1 Axes>"
            ]
          },
          "metadata": {
            "tags": [],
            "needs_background": "light"
          }
        }
      ]
    },
    {
      "cell_type": "code",
      "metadata": {
        "colab": {
          "base_uri": "https://localhost:8080/"
        },
        "id": "TncNUjc9ibjf",
        "outputId": "0538545d-94b0-4e38-97ac-4d70a3ae8f7e"
      },
      "source": [
        "reverse_word_index=dict([(value,key) for (key,value) in word_index.items()])\n",
        "\n",
        "def decode_sentence(text):\n",
        "  return ' '.join([reverse_word_index.get(i,'?') for i in text])\n",
        "\n",
        "print(decode_sentence(training_padded[0]))\n",
        "print(training_sentences[2])\n",
        "print(labels[2])"
      ],
      "execution_count": null,
      "outputs": [
        {
          "output_type": "stream",
          "text": [
            "former <OOV> store <OOV> <OOV> over secret <OOV> <OOV> for <OOV> <OOV> ? ? ? ? ? ? ? ? ? ? ? ? ? ? ? ? ? ? ? ? ? ? ? ? ? ? ? ? ? ? ? ? ? ? ? ? ? ? ? ? ? ? ? ? ? ? ? ? ? ? ? ? ? ? ? ? ? ? ? ? ? ? ? ? ? ? ? ? ? ? ? ? ? ? ? ? ? ? ? ? ? ? ? ? ? ? ? ?\n",
            "mom starting to fear son's web series closest thing she will have to grandchild\n",
            "1\n"
          ],
          "name": "stdout"
        }
      ]
    },
    {
      "cell_type": "code",
      "metadata": {
        "colab": {
          "base_uri": "https://localhost:8080/"
        },
        "id": "YPJB1NqoljNH",
        "outputId": "9943ccec-a84f-4cb7-82e1-49fc157a4596"
      },
      "source": [
        "e=model.layers[0]\n",
        "weights=e.get_weights()[0]\n",
        "print(weights.shape) #shape:(vocab_size,embeddibg_dim)"
      ],
      "execution_count": null,
      "outputs": [
        {
          "output_type": "stream",
          "text": [
            "(1000, 16)\n"
          ],
          "name": "stdout"
        }
      ]
    },
    {
      "cell_type": "code",
      "metadata": {
        "id": "oV8kbZNZmZYb"
      },
      "source": [
        ""
      ],
      "execution_count": null,
      "outputs": []
    },
    {
      "cell_type": "code",
      "metadata": {
        "id": "LoBXVffknldU"
      },
      "source": [
        "import io\n",
        "\n",
        "out_v = io.open('vecs.tsv', 'w', encoding='utf-8')\n",
        "out_m = io.open('meta.tsv', 'w', encoding='utf-8')\n",
        "for word_num in range(1, vocab_size):\n",
        "  word = reverse_word_index[word_num]\n",
        "  embeddings = weights[word_num]\n",
        "  out_m.write(word + \"\\n\")\n",
        "  out_v.write('\\t'.join([str(x) for x in embeddings]) + \"\\n\")\n",
        "out_v.close()\n",
        "out_m.close()"
      ],
      "execution_count": null,
      "outputs": []
    },
    {
      "cell_type": "code",
      "metadata": {
        "colab": {
          "base_uri": "https://localhost:8080/",
          "height": 17
        },
        "id": "eNQPAGoam43y",
        "outputId": "5ad3790d-da62-4c86-b06d-bbcd20ff54aa"
      },
      "source": [
        "try:\n",
        "  from google.colab import files\n",
        "except ImportError:\n",
        "  pass\n",
        "else:\n",
        "  #files.download('vecs.tsv')\n",
        "  files.download('meta.tsv')"
      ],
      "execution_count": null,
      "outputs": [
        {
          "output_type": "display_data",
          "data": {
            "application/javascript": [
              "\n",
              "    async function download(id, filename, size) {\n",
              "      if (!google.colab.kernel.accessAllowed) {\n",
              "        return;\n",
              "      }\n",
              "      const div = document.createElement('div');\n",
              "      const label = document.createElement('label');\n",
              "      label.textContent = `Downloading \"${filename}\": `;\n",
              "      div.appendChild(label);\n",
              "      const progress = document.createElement('progress');\n",
              "      progress.max = size;\n",
              "      div.appendChild(progress);\n",
              "      document.body.appendChild(div);\n",
              "\n",
              "      const buffers = [];\n",
              "      let downloaded = 0;\n",
              "\n",
              "      const channel = await google.colab.kernel.comms.open(id);\n",
              "      // Send a message to notify the kernel that we're ready.\n",
              "      channel.send({})\n",
              "\n",
              "      for await (const message of channel.messages) {\n",
              "        // Send a message to notify the kernel that we're ready.\n",
              "        channel.send({})\n",
              "        if (message.buffers) {\n",
              "          for (const buffer of message.buffers) {\n",
              "            buffers.push(buffer);\n",
              "            downloaded += buffer.byteLength;\n",
              "            progress.value = downloaded;\n",
              "          }\n",
              "        }\n",
              "      }\n",
              "      const blob = new Blob(buffers, {type: 'application/binary'});\n",
              "      const a = document.createElement('a');\n",
              "      a.href = window.URL.createObjectURL(blob);\n",
              "      a.download = filename;\n",
              "      div.appendChild(a);\n",
              "      a.click();\n",
              "      div.remove();\n",
              "    }\n",
              "  "
            ],
            "text/plain": [
              "<IPython.core.display.Javascript object>"
            ]
          },
          "metadata": {
            "tags": []
          }
        },
        {
          "output_type": "display_data",
          "data": {
            "application/javascript": [
              "download(\"download_f4c1372b-83d6-453b-9ebe-d1361b059214\", \"meta.tsv\", 6312)"
            ],
            "text/plain": [
              "<IPython.core.display.Javascript object>"
            ]
          },
          "metadata": {
            "tags": []
          }
        }
      ]
    },
    {
      "cell_type": "code",
      "metadata": {
        "colab": {
          "base_uri": "https://localhost:8080/"
        },
        "id": "aYap1p4zm_7V",
        "outputId": "9e71d9ed-6d55-48ff-8913-66bae74b5934"
      },
      "source": [
        "sentence = [\"I'm feeling sick\", \"Happy merry christmas\"]\n",
        "sequences = tokenizer.texts_to_sequences(sentence)\n",
        "padded = pad_sequences(sequences, maxlen=max_length, padding=padding_type, truncating=trunc_type)\n",
        "print(model.predict(padded))"
      ],
      "execution_count": null,
      "outputs": [
        {
          "output_type": "stream",
          "text": [
            "[[0.10779762]\n",
            " [0.13564289]]\n"
          ],
          "name": "stdout"
        }
      ]
    },
    {
      "cell_type": "code",
      "metadata": {
        "colab": {
          "base_uri": "https://localhost:8080/",
          "height": 136
        },
        "id": "G29JmFqqoCsg",
        "outputId": "df20c59f-e670-45af-fc57-13a2a19e02e9"
      },
      "source": [
        "# Load the TensorBoard notebook ex\n",
        "\\tensorboard --logdir logs/hparam_tuning"
      ],
      "execution_count": 6,
      "outputs": [
        {
          "output_type": "error",
          "ename": "SyntaxError",
          "evalue": "ignored",
          "traceback": [
            "\u001b[0;36m  File \u001b[0;32m\"<ipython-input-6-148805dedec7>\"\u001b[0;36m, line \u001b[0;32m2\u001b[0m\n\u001b[0;31m    \\tensorboard --logdir logs/hparam_tuning\u001b[0m\n\u001b[0m                                            ^\u001b[0m\n\u001b[0;31mSyntaxError\u001b[0m\u001b[0;31m:\u001b[0m unexpected character after line continuation character\n"
          ]
        }
      ]
    },
    {
      "cell_type": "code",
      "metadata": {
        "id": "84zcpkR5igjW"
      },
      "source": [
        ""
      ],
      "execution_count": null,
      "outputs": []
    }
  ]
}